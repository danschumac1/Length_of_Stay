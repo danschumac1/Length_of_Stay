{
 "cells": [
  {
   "cell_type": "markdown",
   "id": "1738ebfb",
   "metadata": {},
   "source": [
    "# Imports "
   ]
  },
  {
   "cell_type": "code",
   "execution_count": 34,
   "id": "acab3293",
   "metadata": {},
   "outputs": [],
   "source": [
    "import pandas as pd\n",
    "import datetime as dt\n",
    "import numpy as np"
   ]
  },
  {
   "cell_type": "markdown",
   "id": "e8c876f8",
   "metadata": {},
   "source": [
    "# Load and Clean the Data"
   ]
  },
  {
   "cell_type": "markdown",
   "id": "3ac1a55e",
   "metadata": {},
   "source": [
    "##### Dummy Variables"
   ]
  },
  {
   "cell_type": "code",
   "execution_count": 35,
   "id": "987b725d",
   "metadata": {},
   "outputs": [],
   "source": [
    "# Read the data\n",
    "df_los = pd.read_csv('./data/LOS_data.csv')\n",
    "\n",
    "# Rename columns\n",
    "df_los = df_los.rename(columns={\n",
    "    'Patient ID': 'patientID',\n",
    "    'DISCHQTR': 'dischargeQTR',\n",
    "    'MnthName': 'month',\n",
    "    'AdmitType': 'admitType',\n",
    "    'Discharge Status': 'dischargeStatus',\n",
    "    'ADMITWeekday': 'admittedDOW',\n",
    "    'Hospital': 'hospital',\n",
    "    'AgeGroup': 'ageGroup',\n",
    "    'SEX': 'sex',\n",
    "    'RACE': 'race',\n",
    "    'ETHNICIT': 'ethnicity',\n",
    "    'Case Mix Index': 'caseMixIndex',\n",
    "    'Severity (APR DRG)': 'severity',\n",
    "    'Risk of Mortality (APR DRG)': 'riskOfMortality',\n",
    "    'PrincipleDiagnosisCode': 'principleDiagnosisCode',\n",
    "    'PrincipalDiagnosis': 'principalDiagnosis',\n",
    "    'DiagPosCnt': 'diagPosCnt',\n",
    "    'PrinicpleProcedureCode': 'principalProcedureCode',\n",
    "    'PrincipalProcedure': 'principalProcedure',\n",
    "    'ProcPosCnt': 'procPosCnt',\n",
    "    'Product Line': 'productLine',\n",
    "    'AltProductLine1': 'altProductLine1',\n",
    "    'AltProductLine1SUB': 'altProductLine1SUB',\n",
    "    'PayCode1': 'payCode',\n",
    "    ' TOTALCHG ': 'totalCharge'\n",
    "})\n",
    "\n",
    "# Mapping for weekdays\n",
    "weekday_mapping = {\n",
    "    'Mon': 0,\n",
    "    'Tue': 1,\n",
    "    'Wed': 2,\n",
    "    'Thu': 3,\n",
    "    'Fri': 4,\n",
    "    'Sat': 5,\n",
    "    'Sun': 6\n",
    "}\n",
    "\n",
    "# git rid of the numbers at the front of APR DRG and principalDiagnosis\n",
    "df_los['APR DRG'] = df_los['APR DRG'].apply(lambda x: x.split('-')[1] if isinstance(x, str) else x)\n",
    "df_los['principalDiagnosis'] = df_los['principalDiagnosis'].apply(lambda x: x.split('-')[1] if isinstance(x, str) else x)\n",
    "\n",
    "\n",
    "# Extract the last digit of dischargeQTR and convert to int\n",
    "df_los['dischargeQTR'] = df_los['dischargeQTR'].astype(str).str[-1].astype(int)\n",
    "\n",
    "# Convert month to datetime and extract month\n",
    "df_los['month'] = pd.to_datetime(df_los['month'], format='%b').dt.month\n",
    "\n",
    "# Drop 'In/Out' column and 'year' and 'LOSGroupName', 'APR_DRG'\n",
    "df_los.drop(['In/Out', 'YEAR', 'LOSGroupName', 'APR_DRG'], axis=1, inplace=True)\n",
    "\n",
    "\n",
    "# Replace 'Medical Emergency' with 'Emergency' in admitType column\n",
    "df_los['admitType'] = np.where(df_los['admitType'] == 'Medical Emergency', 'Emergency', df_los['admitType'])\n",
    "\n",
    "# Map weekday names to numerical values\n",
    "df_los['admittedDOW'] = df_los['admittedDOW'].map(weekday_mapping)\n",
    "\n",
    "# Convert LOS to int\n",
    "df_los['LOS'] = df_los['LOS'].astype(int)\n",
    "\n",
    "# Remove '$' and ',' from totalCharge and convert to float\n",
    "df_los['totalCharge'] = df_los['totalCharge'].replace('[$,]', '', regex=True).astype(float)\n",
    "df_los['ageGroup'] = df_los['ageGroup'].replace('[Years ]', '', regex=True)\n",
    "\n",
    "# Make Target Variable\n",
    "df_los.loc[:, 'LOSDiscrepancyCost'] = -(df_los['LOS'] - df_los['GM-LOS'] * 1000)\n",
    "\n",
    "# Drop where the target variable is missing\n",
    "df_los = df_los.dropna(subset=['LOSDiscrepancyCost'])"
   ]
  },
  {
   "cell_type": "code",
   "execution_count": 36,
   "id": "8b30016a",
   "metadata": {},
   "outputs": [],
   "source": [
    "df_los.to_csv('./data/los_dummy.csv', index=False)"
   ]
  },
  {
   "cell_type": "markdown",
   "id": "fbea1ae4",
   "metadata": {},
   "source": [
    "##### Cat Vars"
   ]
  },
  {
   "cell_type": "code",
   "execution_count": 37,
   "id": "22cb3338",
   "metadata": {},
   "outputs": [],
   "source": [
    "cols_to_categorize = [\n",
    "    'month',\n",
    "    'admitType',\n",
    "    'dischargeStatus',\n",
    "    'admittedDOW',\n",
    "    'hospital',\n",
    "    'ageGroup',\n",
    "    'sex',\n",
    "    'race',\n",
    "    'principalProcedure',\n",
    "    'productLine',\n",
    "]\n",
    "\n",
    "categorical_cols = []\n",
    "for col in cols_to_categorize:\n",
    "    df_los[f'{col}_cat'] = df_los[col].astype('category')\n",
    "    categorical_cols.append(f'{col}_cat')\n",
    "    \n",
    "df_los_cat = df_los.copy()\n",
    "df_los_cat = df_los_cat.drop(cols_to_categorize, axis = 1)"
   ]
  },
  {
   "cell_type": "code",
   "execution_count": 42,
   "id": "5ac216b1",
   "metadata": {},
   "outputs": [],
   "source": [
    "df_los_cat.to_pickle('./data/los_cat.pkl')"
   ]
  },
  {
   "cell_type": "code",
   "execution_count": null,
   "id": "801397c5",
   "metadata": {},
   "outputs": [],
   "source": []
  }
 ],
 "metadata": {
  "hide_input": false,
  "kernelspec": {
   "display_name": "Python 3 (ipykernel)",
   "language": "python",
   "name": "python3"
  },
  "language_info": {
   "codemirror_mode": {
    "name": "ipython",
    "version": 3
   },
   "file_extension": ".py",
   "mimetype": "text/x-python",
   "name": "python",
   "nbconvert_exporter": "python",
   "pygments_lexer": "ipython3",
   "version": "3.9.12"
  }
 },
 "nbformat": 4,
 "nbformat_minor": 5
}
