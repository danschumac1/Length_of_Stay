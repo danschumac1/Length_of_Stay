{
 "cells": [
  {
   "cell_type": "markdown",
   "id": "7419e133",
   "metadata": {},
   "source": [
    "# Imports "
   ]
  },
  {
   "cell_type": "code",
   "execution_count": 1,
   "id": "acab3293",
   "metadata": {},
   "outputs": [],
   "source": [
    "import pandas as pd\n",
    "import datetime as dt\n",
    "import numpy as np\n",
    "import seaborn as sns\n",
    "import matplotlib.pyplot as plt\n",
    "from matplotlib.ticker import FuncFormatter\n",
    "\n",
    "from statsmodels.stats.outliers_influence import variance_inflation_factor as VIF\n",
    "from sklearn.linear_model import LinearRegression\n",
    "\n",
    "import itertools\n",
    "from tqdm import tqdm\n",
    "\n",
    "import sys\n",
    "sys.path.append('./functions')\n",
    "from functions import (\n",
    "    logistic_regression_diagnostic_plots,\n",
    "    diagnostic_plots,\n",
    "    calculate_vif,\n",
    "    remove_high_vif_features,\n",
    "    evaluate,\n",
    "    plot_sensitivity_specificity,\n",
    "    aic_scorer,\n",
    "    select_model_by_aic,\n",
    "    view_logistic_regression_coefficients,\n",
    "    calculate_cooks_distance\n",
    ")"
   ]
  },
  {
   "cell_type": "markdown",
   "id": "8df4e628",
   "metadata": {},
   "source": [
    "# Load the Data"
   ]
  },
  {
   "cell_type": "code",
   "execution_count": 2,
   "id": "091dd7b4",
   "metadata": {},
   "outputs": [],
   "source": [
    "df_los = pd.read_csv('./data/los_cleaned.csv')\n"
   ]
  },
  {
   "cell_type": "markdown",
   "id": "1f9949c0",
   "metadata": {},
   "source": [
    "### Develop the target variable"
   ]
  },
  {
   "cell_type": "code",
   "execution_count": 3,
   "id": "094c82d0",
   "metadata": {},
   "outputs": [],
   "source": [
    "# For each row, we will subtract the row’s ALOS from its GM-LOS and multiply by $1,000.\n",
    "df_los.loc[:, 'LOSDiscrepancyCost'] = -(df_los['LOS'] - df_los['GM-LOS'] * 1000)\n",
    "df_los = df_los.dropna(subset=['LOSDiscrepancyCost'])"
   ]
  },
  {
   "cell_type": "code",
   "execution_count": 4,
   "id": "43af533f",
   "metadata": {},
   "outputs": [
    {
     "data": {
      "text/plain": [
       "8123"
      ]
     },
     "execution_count": 4,
     "metadata": {},
     "output_type": "execute_result"
    }
   ],
   "source": [
    "len(df_los)"
   ]
  },
  {
   "cell_type": "markdown",
   "id": "620b2a08",
   "metadata": {},
   "source": [
    "## Get descriptive statistics"
   ]
  },
  {
   "cell_type": "code",
   "execution_count": 5,
   "id": "4c4931db",
   "metadata": {},
   "outputs": [
    {
     "data": {
      "text/html": [
       "<div>\n",
       "<style scoped>\n",
       "    .dataframe tbody tr th:only-of-type {\n",
       "        vertical-align: middle;\n",
       "    }\n",
       "\n",
       "    .dataframe tbody tr th {\n",
       "        vertical-align: top;\n",
       "    }\n",
       "\n",
       "    .dataframe thead th {\n",
       "        text-align: right;\n",
       "    }\n",
       "</style>\n",
       "<table border=\"1\" class=\"dataframe\">\n",
       "  <thead>\n",
       "    <tr style=\"text-align: right;\">\n",
       "      <th></th>\n",
       "      <th>Metric</th>\n",
       "      <th>Value</th>\n",
       "    </tr>\n",
       "  </thead>\n",
       "  <tbody>\n",
       "    <tr>\n",
       "      <th>0</th>\n",
       "      <td>Number of Cases</td>\n",
       "      <td>8123.000000</td>\n",
       "    </tr>\n",
       "    <tr>\n",
       "      <th>1</th>\n",
       "      <td>Average GM-LOS</td>\n",
       "      <td>4.114108</td>\n",
       "    </tr>\n",
       "    <tr>\n",
       "      <th>2</th>\n",
       "      <td>Average CMI</td>\n",
       "      <td>1.688572</td>\n",
       "    </tr>\n",
       "    <tr>\n",
       "      <th>3</th>\n",
       "      <td>Medical Center Hospital LOS</td>\n",
       "      <td>4.678341</td>\n",
       "    </tr>\n",
       "    <tr>\n",
       "      <th>4</th>\n",
       "      <td>South Hospital LOS</td>\n",
       "      <td>3.499690</td>\n",
       "    </tr>\n",
       "  </tbody>\n",
       "</table>\n",
       "</div>"
      ],
      "text/plain": [
       "                        Metric        Value\n",
       "0              Number of Cases  8123.000000\n",
       "1               Average GM-LOS     4.114108\n",
       "2                  Average CMI     1.688572\n",
       "3  Medical Center Hospital LOS     4.678341\n",
       "4           South Hospital LOS     3.499690"
      ]
     },
     "execution_count": 5,
     "metadata": {},
     "output_type": "execute_result"
    }
   ],
   "source": [
    "import pandas as pd\n",
    "\n",
    "# Initialize a dictionary to store the values\n",
    "data_dict = {\n",
    "    'Metric': [],\n",
    "    'Value': []\n",
    "}\n",
    "\n",
    "# Number of cases\n",
    "num_cases = len(df_los)\n",
    "data_dict['Metric'].append('Number of Cases')\n",
    "data_dict['Value'].append(num_cases)\n",
    "\n",
    "# Average GM-LOS\n",
    "avg_gm_los = df_los['GM-LOS'].mean()\n",
    "data_dict['Metric'].append('Average GM-LOS')\n",
    "data_dict['Value'].append(avg_gm_los)\n",
    "\n",
    "# Average CMI\n",
    "avg_cmi = df_los['caseMixIndex'].mean()\n",
    "data_dict['Metric'].append('Average CMI')\n",
    "data_dict['Value'].append(avg_cmi)\n",
    "\n",
    "# Split dataframe into 2 hospitals\n",
    "df_mch = df_los[df_los['hospital'] == df_los['hospital'].unique()[0]]\n",
    "df_sh = df_los[df_los['hospital'] == df_los['hospital'].unique()[1]]\n",
    "\n",
    "# Average LOS for each hospital\n",
    "# Medical Center Hospital\n",
    "avg_mch_los = df_mch['LOS'].mean()\n",
    "# South Hospital\n",
    "avg_sh_los = df_sh['LOS'].mean()\n",
    "\n",
    "data_dict['Metric'].append('Medical Center Hospital LOS')\n",
    "data_dict['Value'].append(avg_mch_los)\n",
    "\n",
    "data_dict['Metric'].append('South Hospital LOS')\n",
    "data_dict['Value'].append(avg_sh_los)\n",
    "\n",
    "# Create a DataFrame from the dictionary\n",
    "metrics_df = pd.DataFrame(data_dict)\n",
    "\n",
    "# Print the DataFrame\n",
    "metrics_df"
   ]
  },
  {
   "cell_type": "markdown",
   "id": "0158cbaa",
   "metadata": {},
   "source": [
    "### How much money would each hospital save if they could get their LOSDiscrepancyCost to 0 for every patient?"
   ]
  },
  {
   "cell_type": "code",
   "execution_count": 6,
   "id": "75ffbfce",
   "metadata": {},
   "outputs": [
    {
     "name": "stdout",
     "output_type": "stream",
     "text": [
      "MCH Money Saved: $26,744,144.05\n",
      "SH Money Saved: $6,638,654.99\n"
     ]
    }
   ],
   "source": [
    "mch_neg_values = pd.DataFrame()\n",
    "mch_neg_values['LOSDiscrepancyCost'] = df_mch[df_mch['LOSDiscrepancyCost'] > 0]['LOSDiscrepancyCost']\n",
    "mch_money_saved = mch_neg_values.sum()[0]\n",
    "\n",
    "sh_neg_values = pd.DataFrame()\n",
    "sh_neg_values['LOSDiscrepancyCost'] = df_sh[df_sh['LOSDiscrepancyCost'] > 0]['LOSDiscrepancyCost']\n",
    "sh_money_saved = sh_neg_values.sum()[0]\n",
    "\n",
    "print('MCH Money Saved:', f'${mch_money_saved:,.2f}')\n",
    "print('SH Money Saved:', f'${sh_money_saved:,.2f}')"
   ]
  },
  {
   "cell_type": "markdown",
   "id": "8fcc5fc8",
   "metadata": {},
   "source": [
    "### What product lines have the greatest opportunity for improvement in terms of patient days?\n",
    "Group by (product line) -> avg. sort by highest to lowest cost.\n",
    "### Visualize with bar charts.\n"
   ]
  },
  {
   "cell_type": "code",
   "execution_count": 7,
   "id": "8595b0cc",
   "metadata": {},
   "outputs": [
    {
     "data": {
      "text/html": [
       "<div>\n",
       "<style scoped>\n",
       "    .dataframe tbody tr th:only-of-type {\n",
       "        vertical-align: middle;\n",
       "    }\n",
       "\n",
       "    .dataframe tbody tr th {\n",
       "        vertical-align: top;\n",
       "    }\n",
       "\n",
       "    .dataframe thead th {\n",
       "        text-align: right;\n",
       "    }\n",
       "</style>\n",
       "<table border=\"1\" class=\"dataframe\">\n",
       "  <thead>\n",
       "    <tr style=\"text-align: right;\">\n",
       "      <th></th>\n",
       "      <th>productLine</th>\n",
       "      <th>LOSDiscrepancyCost</th>\n",
       "    </tr>\n",
       "  </thead>\n",
       "  <tbody>\n",
       "    <tr>\n",
       "      <th>0</th>\n",
       "      <td>General Medicine</td>\n",
       "      <td>7.238977e+06</td>\n",
       "    </tr>\n",
       "    <tr>\n",
       "      <th>1</th>\n",
       "      <td>Pulmonology</td>\n",
       "      <td>5.828597e+06</td>\n",
       "    </tr>\n",
       "    <tr>\n",
       "      <th>2</th>\n",
       "      <td>General Surgery</td>\n",
       "      <td>5.584802e+06</td>\n",
       "    </tr>\n",
       "    <tr>\n",
       "      <th>3</th>\n",
       "      <td>Gastroenterology</td>\n",
       "      <td>2.713769e+06</td>\n",
       "    </tr>\n",
       "    <tr>\n",
       "      <th>4</th>\n",
       "      <td>Orthopedics</td>\n",
       "      <td>2.527706e+06</td>\n",
       "    </tr>\n",
       "  </tbody>\n",
       "</table>\n",
       "</div>"
      ],
      "text/plain": [
       "        productLine  LOSDiscrepancyCost\n",
       "0  General Medicine        7.238977e+06\n",
       "1       Pulmonology        5.828597e+06\n",
       "2   General Surgery        5.584802e+06\n",
       "3  Gastroenterology        2.713769e+06\n",
       "4       Orthopedics        2.527706e+06"
      ]
     },
     "execution_count": 7,
     "metadata": {},
     "output_type": "execute_result"
    }
   ],
   "source": [
    "# isolate vars that are negative\n",
    "\n",
    "pl_improvement = df_los.groupby('productLine').sum(numeric_only=True).sort_values(by = 'LOSDiscrepancyCost', ascending = False)['LOSDiscrepancyCost']\n",
    "pl_improvement = pd.DataFrame(pl_improvement)\n",
    "pl_improvement.reset_index(inplace=True)\n",
    "pl_improvement.head()"
   ]
  },
  {
   "cell_type": "code",
   "execution_count": 8,
   "id": "b6780ab0",
   "metadata": {},
   "outputs": [
    {
     "data": {
      "image/png": "[encoded data removed]",
      "text/plain": [
       "<Figure size 864x432 with 1 Axes>"
      ]
     },
     "metadata": {
      "needs_background": "light"
     },
     "output_type": "display_data"
    }
   ],
   "source": [
    "plt.figure(figsize=(12,6))\n",
    "\n",
    "# Function to format y-axis labels to display numerical values in dollars with commas\n",
    "def format_y_tick_labels(value, pos):\n",
    "    return f'${value:,.0f}'\n",
    "\n",
    "# Create the barplot\n",
    "sns.barplot(x='productLine', y='LOSDiscrepancyCost', data=pl_improvement.head(10))\n",
    "\n",
    "# Rotate x-axis labels\n",
    "plt.xticks(rotation=45)\n",
    "\n",
    "# Format y-axis labels using the formatter function\n",
    "plt.gca().yaxis.set_major_formatter(FuncFormatter(format_y_tick_labels))\n",
    "\n",
    "\n",
    "plt.title('Product Lines with the biggest potential for improvement (LOS)')\n",
    "plt.xlabel('Product Line')\n",
    "plt.ylabel('Estimated Money Lossed')\n",
    "\n",
    "# Show the plot\n",
    "plt.show()\n"
   ]
  },
  {
   "cell_type": "markdown",
   "id": "b7b4f7b4",
   "metadata": {},
   "source": [
    "### Within the product line with the greatest opportunity for improvement (identified above), which DRG has the greatest opportunity for improvement?  Answer the questions: What is this diagnosis? Why is it difficult for hospitals to manage?\n",
    "- Within the product line identified above, group by (DRG) -> avg. sort by highest to lowest cost.\n",
    " - Visualize with bar charts.\n"
   ]
  },
  {
   "cell_type": "code",
   "execution_count": 9,
   "id": "9cb475e3",
   "metadata": {},
   "outputs": [
    {
     "data": {
      "text/html": [
       "<div>\n",
       "<style scoped>\n",
       "    .dataframe tbody tr th:only-of-type {\n",
       "        vertical-align: middle;\n",
       "    }\n",
       "\n",
       "    .dataframe tbody tr th {\n",
       "        vertical-align: top;\n",
       "    }\n",
       "\n",
       "    .dataframe thead th {\n",
       "        text-align: right;\n",
       "    }\n",
       "</style>\n",
       "<table border=\"1\" class=\"dataframe\">\n",
       "  <thead>\n",
       "    <tr style=\"text-align: right;\">\n",
       "      <th></th>\n",
       "      <th>APR DRG</th>\n",
       "      <th>LOSDiscrepancyCost</th>\n",
       "    </tr>\n",
       "  </thead>\n",
       "  <tbody>\n",
       "    <tr>\n",
       "      <th>0</th>\n",
       "      <td>720-Septicemia &amp; Disseminated Infections</td>\n",
       "      <td>3.960901e+06</td>\n",
       "    </tr>\n",
       "    <tr>\n",
       "      <th>1</th>\n",
       "      <td>137-Major Respiratory Infections &amp; Inflammations</td>\n",
       "      <td>3.607219e+06</td>\n",
       "    </tr>\n",
       "    <tr>\n",
       "      <th>2</th>\n",
       "      <td>194-Heart Failure</td>\n",
       "      <td>1.347988e+06</td>\n",
       "    </tr>\n",
       "    <tr>\n",
       "      <th>3</th>\n",
       "      <td>710-Infectious &amp; Parasitic Diseases Including ...</td>\n",
       "      <td>1.003919e+06</td>\n",
       "    </tr>\n",
       "    <tr>\n",
       "      <th>4</th>\n",
       "      <td>231-Major large bowel procedures</td>\n",
       "      <td>7.922490e+05</td>\n",
       "    </tr>\n",
       "  </tbody>\n",
       "</table>\n",
       "</div>"
      ],
      "text/plain": [
       "                                             APR DRG  LOSDiscrepancyCost\n",
       "0           720-Septicemia & Disseminated Infections        3.960901e+06\n",
       "1   137-Major Respiratory Infections & Inflammations        3.607219e+06\n",
       "2                                  194-Heart Failure        1.347988e+06\n",
       "3  710-Infectious & Parasitic Diseases Including ...        1.003919e+06\n",
       "4                   231-Major large bowel procedures        7.922490e+05"
      ]
     },
     "execution_count": 9,
     "metadata": {},
     "output_type": "execute_result"
    }
   ],
   "source": [
    "# isolate vars that are negative\n",
    "gen_med = df_los[df_los['productLine'] == 'General Medice']\n",
    "drg_improvement = df_los.groupby(['APR DRG']).sum(numeric_only=True).sort_values(by = 'LOSDiscrepancyCost', ascending = False)['LOSDiscrepancyCost']\n",
    "drg_improvement = pd.DataFrame(drg_improvement)\n",
    "drg_improvement.reset_index(inplace=True)\n",
    "drg_improvement.head()"
   ]
  },
  {
   "cell_type": "code",
   "execution_count": 10,
   "id": "f62cf06b",
   "metadata": {},
   "outputs": [
    {
     "data": {
      "image/png": "[encoded data removed]",
      "text/plain": [
       "<Figure size 864x432 with 1 Axes>"
      ]
     },
     "metadata": {
      "needs_background": "light"
     },
     "output_type": "display_data"
    }
   ],
   "source": [
    "# @$@ clean this up later\n",
    "\n",
    "plt.figure(figsize=(12,6))\n",
    "\n",
    "# Create the barplot\n",
    "sns.barplot(x='APR DRG', y='LOSDiscrepancyCost', data=drg_improvement.head(10))\n",
    "\n",
    "# Rotate x-axis labels\n",
    "plt.xticks(rotation=45)\n",
    "\n",
    "# Format y-axis labels using the formatter function\n",
    "plt.gca().yaxis.set_major_formatter(FuncFormatter(format_y_tick_labels))\n",
    "\n",
    "\n",
    "plt.title('Product Lines with the biggest potential for improvement (LOS)')\n",
    "plt.xlabel('Product Line')\n",
    "plt.ylabel('Estimated Money Lossed')\n",
    "\n",
    "# Show the plot\n",
    "plt.show()\n"
   ]
  },
  {
   "cell_type": "markdown",
   "id": "a9db0d35",
   "metadata": {},
   "source": [
    "### Build a predictive model focused on interpretability that uses the patient demographic data to see which group of patients is expected to have the highest variance in length of stay. Build a predictive model that focuses on predictive power rather than interpretability that allows hospitals to more accurately predict LOS deviation.\n",
    "- Linear Regression for interpretable model\n",
    "- Try other types of models, for predictive purposes. Support vector machines, random forest etc."
   ]
  },
  {
   "cell_type": "code",
   "execution_count": 11,
   "id": "f47db421",
   "metadata": {},
   "outputs": [],
   "source": [
    "cols_to_categorize = [\n",
    "    'month',\n",
    "    'admitType',\n",
    "    'dischargeStatus',\n",
    "    'admittedDOW',\n",
    "    'hospital',\n",
    "    'ageGroup',\n",
    "    'sex',\n",
    "    'race',\n",
    "    'principalProcedure',\n",
    "    'productLine',\n",
    "    'altProductLine1',\n",
    "    'altProductLine1SUB',\n",
    "    'payCode'\n",
    "]\n",
    "\n",
    "categorical_cols = []\n",
    "for col in cols_to_categorize:\n",
    "    df_los[f'{col}_cat'] = df_los[col].astype('category')\n",
    "    categorical_cols.append(f'{col}_cat')"
   ]
  },
  {
   "cell_type": "code",
   "execution_count": 13,
   "id": "41a40078",
   "metadata": {},
   "outputs": [],
   "source": [
    "regression_ready = df_los.copy()\n",
    "regression_ready = regression_ready.drop(categorical_cols, axis = 1)\n",
    "\n",
    "\n",
    "regression_ready =regression_ready.drop(\n",
    "    ['LOS',\n",
    "     'APR_DRG',\n",
    "     'AM-LOS',\n",
    "     'patientID',\n",
    "     'dischargeQTR',\n",
    "     'GM-LOS',\n",
    "     'caseMixIndex',\n",
    "     'principleDiagnosisCode',\n",
    "     'principalDiagnosis',\n",
    "     'principalProcedureCode',\n",
    "     'principalProcedure',\n",
    "     'LOSGroupName'],\n",
    "    axis = 1\n",
    ")\n",
    "\n",
    "\n",
    "# Lets take out categorical variables with too many categories...\n",
    "\n",
    "var_list = []\n",
    "var_list.append('LOSDiscrepancyCost')\n",
    "for col in regression_ready.columns:\n",
    "    if len(regression_ready[col].unique()) < 26:\n",
    "        var_list.append(col)\n",
    "\n",
    "regression_ready = regression_ready[var_list]\n",
    "regression_ready =pd.get_dummies(regression_ready, drop_first = True)"
   ]
  },
  {
   "cell_type": "code",
   "execution_count": 14,
   "id": "4778391d",
   "metadata": {},
   "outputs": [],
   "source": [
    "corr_mar = regression_ready.corr(numeric_only=True)\n",
    "# plt.figure(figsize=(8,6))\n",
    "# sns.heatmap(\n",
    "#     corr_mar,\n",
    "#     cmap = 'coolwarm'\n",
    "# )\n",
    "# plt.show()"
   ]
  },
  {
   "cell_type": "code",
   "execution_count": 15,
   "id": "e27abe79",
   "metadata": {},
   "outputs": [],
   "source": [
    "# getting rid of high vif\n",
    "X = regression_ready.drop('LOSDiscrepancyCost', axis = 1)\n",
    "y = regression_ready['LOSDiscrepancyCost']\n",
    "kept, removed = remove_high_vif_features(X = X, y = y, vif_threshold =  10)"
   ]
  },
  {
   "cell_type": "code",
   "execution_count": 16,
   "id": "e1f5570c",
   "metadata": {},
   "outputs": [
    {
     "data": {
      "text/plain": [
       "['severity_1-Minor',\n",
       " 'productLine_Cardiac (Medical)',\n",
       " 'productLine_Gynecology',\n",
       " 'productLine_Neurology',\n",
       " 'productLine_Neurosurgery',\n",
       " 'productLine_Spine (Medical)',\n",
       " 'altProductLine1_General Medicine',\n",
       " 'ethnicity_Not Hispanic or Latino',\n",
       " 'riskOfMortality_1-Minor',\n",
       " 'productLine_General Medicine',\n",
       " 'race_White',\n",
       " 'payCode_Medicare Part A',\n",
       " 'altProductLine1_General Surgery',\n",
       " 'ageGroup_70-74',\n",
       " 'altProductLine1_Orthopedics']"
      ]
     },
     "execution_count": 16,
     "metadata": {},
     "output_type": "execute_result"
    }
   ],
   "source": [
    "removed"
   ]
  },
  {
   "cell_type": "code",
   "execution_count": 17,
   "id": "05e2190a",
   "metadata": {},
   "outputs": [],
   "source": [
    "corr_mar = kept.corr(numeric_only=True)\n",
    "\n",
    "\n",
    "# plt.figure(figsize=(8,6))\n",
    "# sns.heatmap(\n",
    "#     corr_mar,\n",
    "#     cmap = 'coolwarm'\n",
    "# )\n",
    "# plt.show()"
   ]
  },
  {
   "cell_type": "code",
   "execution_count": 18,
   "id": "1bf1e46a",
   "metadata": {},
   "outputs": [
    {
     "data": {
      "text/plain": [
       "1808479.8366963274"
      ]
     },
     "execution_count": 18,
     "metadata": {},
     "output_type": "execute_result"
    }
   ],
   "source": [
    "# FIT LINEAR REGRESSION\n",
    "from sklearn.linear_model import LinearRegression\n",
    "from sklearn.model_selection import train_test_split\n",
    "from sklearn.metrics import mean_squared_error\n",
    "\n",
    "X = kept\n",
    "y = regression_ready['LOSDiscrepancyCost']\n",
    "\n",
    "X_train, X_test, y_train, y_test = train_test_split(kept, y, test_size=0.33, random_state=42)\n",
    "lr_reg = LinearRegression()\n",
    "lr_reg = lr_reg.fit(X_train, y_train)\n",
    "\n",
    "lr_preds = lr_reg.predict(X_test)\n",
    "mean_squared_error(lr_preds, y_test)"
   ]
  },
  {
   "cell_type": "code",
   "execution_count": null,
   "id": "767ad037",
   "metadata": {},
   "outputs": [
    {
     "name": "stdout",
     "output_type": "stream",
     "text": [
      "The autoreload extension is already loaded. To reload it, use:\n",
      "  %reload_ext autoreload\n"
     ]
    },
    {
     "name": "stderr",
     "output_type": "stream",
     "text": [
      "Feature Set Combinations: 100%|██████████| 2028355/2028355 [00:02<00:00, 901785.71it/s] \n",
      "Evaluating feature sets:   4%|▎         | 75306/2028355 [06:26<2:37:13, 207.04it/s]"
     ]
    }
   ],
   "source": [
    "%load_ext autoreload\n",
    "%autoreload 2\n",
    "\n",
    "feature_sets = []\n",
    "feature_names = [col for col in X.columns if col != 'LOSDiscrepancyCost']\n",
    "\n",
    "# Total number of iterations\n",
    "total_iterations = sum(1 for L in range(1, 5) for _ in itertools.combinations(feature_names, L))\n",
    "\n",
    "# Create tqdm instance\n",
    "pbar = tqdm(total=total_iterations, desc=\"Feature Set Combinations\")\n",
    "\n",
    "for L in range(1, 5):  # Change '7' to a different number if you want more features in the combinations\n",
    "    for subset in itertools.combinations(feature_names, L):\n",
    "        feature_sets.append(list(subset))\n",
    "        pbar.update(1)  # Update progress bar\n",
    "\n",
    "pbar.close()  # Close progress bar after loop completes\n",
    "\n",
    "best_aic, best_features = select_model_by_aic(X, y, feature_sets)\n",
    "print(f\"Best AIC Score: {best_aic}\")\n",
    "print(f\"Best Feature Set: {best_features}\")"
   ]
  },
  {
   "cell_type": "code",
   "execution_count": null,
   "id": "40deacec",
   "metadata": {},
   "outputs": [],
   "source": [
    "from sklearn.linear_model import LinearRegression\n",
    "print(LinearRegression)"
   ]
  },
  {
   "cell_type": "code",
   "execution_count": null,
   "id": "af7066e1",
   "metadata": {
    "scrolled": false
   },
   "outputs": [],
   "source": [
    "import statsmodels.api as sm\n",
    "from sklearn.model_selection import train_test_split\n",
    "\n",
    "# Split the data into training and testing sets\n",
    "X_train, X_test, y_train, y_test = train_test_split(kept, y, test_size=0.33, random_state=42)\n",
    "\n",
    "# Fit the OLS model using the training data\n",
    "model = sm.OLS(y_train, X_train)\n",
    "results = model.fit()\n",
    "\n",
    "# Print the summary of the regression results\n",
    "print(results.summary())\n",
    "results.summary(alpha = .05)"
   ]
  },
  {
   "cell_type": "code",
   "execution_count": null,
   "id": "90cf8d3b",
   "metadata": {},
   "outputs": [],
   "source": [
    "logistic_regression_diagnostic_plots,\n",
    "diagnostic_plots,\n",
    "calculate_vif,\n",
    "remove_high_vif_features,\n",
    "evaluate,\n",
    "plot_sensitivity_specificity,\n",
    "aic_scorer,\n",
    "select_model_by_aic,\n",
    "view_logistic_regression_coefficients,\n",
    "calculate_cooks_distance"
   ]
  },
  {
   "cell_type": "code",
   "execution_count": null,
   "id": "0a361d7c",
   "metadata": {},
   "outputs": [],
   "source": [
    "# FIT LINEAR REGRESSION\n",
    "from sklearn.linear_model import LinearRegression\n",
    "\n",
    "lr_reg = LinearRegression()\n",
    "lr_reg.fit(X, y)\n",
    "final_week_pred = rf_reg.predict(X_test)"
   ]
  }
 ],
 "metadata": {
  "hide_input": false,
  "kernelspec": {
   "display_name": "Python 3 (ipykernel)",
   "language": "python",
   "name": "python3"
  },
  "language_info": {
   "codemirror_mode": {
    "name": "ipython",
    "version": 3
   },
   "file_extension": ".py",
   "mimetype": "text/x-python",
   "name": "python",
   "nbconvert_exporter": "python",
   "pygments_lexer": "ipython3",
   "version": "3.9.12"
  }
 },
 "nbformat": 4,
 "nbformat_minor": 5
}
